{
 "cells": [
  {
   "cell_type": "markdown",
   "metadata": {
    "toc": true
   },
   "source": [
    "<h1>Table of Contents<span class=\"tocSkip\"></span></h1>\n",
    "<div class=\"toc\"><ul class=\"toc-item\"><li><span><a href=\"#Description\" data-toc-modified-id=\"Description-1\"><span class=\"toc-item-num\">1&nbsp;&nbsp;</span>Description</a></span></li></ul></div>"
   ]
  },
  {
   "cell_type": "code",
   "execution_count": 1,
   "metadata": {
    "ExecuteTime": {
     "end_time": "2019-08-30T22:12:12.009595Z",
     "start_time": "2019-08-30T22:12:12.007161Z"
    }
   },
   "outputs": [],
   "source": [
    "import random"
   ]
  },
  {
   "cell_type": "code",
   "execution_count": 2,
   "metadata": {
    "ExecuteTime": {
     "end_time": "2019-08-30T22:12:12.328015Z",
     "start_time": "2019-08-30T22:12:12.323239Z"
    }
   },
   "outputs": [
    {
     "name": "stdout",
     "output_type": "stream",
     "text": [
      "4877051487\n",
      "8904057605\n",
      "7257588538\n",
      "6014002252\n",
      "8256632304\n",
      "6709312963\n",
      "9301058848\n",
      "9336416625\n",
      "0657296952\n",
      "0929246304\n"
     ]
    }
   ],
   "source": [
    "rows = []\n",
    "for i in range(10):\n",
    "    rows.append(\"\".join([str(random.randint(0,9)) for i in range(10)]))\n",
    "print(\"\\n\".join(rows))"
   ]
  },
  {
   "cell_type": "markdown",
   "metadata": {
    "ExecuteTime": {
     "end_time": "2019-02-04T15:52:09.287372Z",
     "start_time": "2019-02-04T15:52:09.283724Z"
    }
   },
   "source": [
    "### Description\n",
    "\n",
    "Main LO:\n",
    "- Use loop and enumerate to operate on sequential data\n",
    "\n",
    "Lesson LOs:\n",
    "- Write a python function\n",
    "- Document code effectively\n",
    "- How to handle errors using try-except or raise\n",
    "\n",
    "There's a special magic formula that assigns a numeric value to a row of digits like `6057`. It works as follows:\n",
    "- add the value of every odd digit multiplied by its position in the row\n",
    "- subtract the value of every even digit multiplied by 5\n",
    "    \n",
    "Using `6057` we would get a value of `6*1 - 0*5 + 5*3 - 7*5 = -14` because six is the first digit (odd), zero is the second digit (even), five is the third digit (odd) and seven is the fourth digit (even).\n",
    "\n",
    "Write a function called `calc_row_value()` that calculates the value of a row of numbers. It should take one argument, `input_string` that is a string.\n",
    "\n",
    "In addition, the function you write should meet the following:\n",
    "- It should make use of the `enumerate()` function.\n",
    "- It should raise a ValueError when the input is not a string.\n",
    "\n",
    "```python\n",
    ">>> calc_row_value('6057')\n",
    "-14\n",
    ">>> calc_row_value('12345')\n",
    "5\n",
    "```\n"
   ]
  },
  {
   "cell_type": "code",
   "execution_count": 25,
   "metadata": {
    "ExecuteTime": {
     "end_time": "2019-08-30T22:28:05.900081Z",
     "start_time": "2019-08-30T22:28:05.895347Z"
    }
   },
   "outputs": [],
   "source": [
    "def magic_row_value(num):\n",
    "    \"\"\"\n",
    "    Calculates special row sum:\n",
    "    add the value of every odd digit multiplied by its position in the row\n",
    "    subtract the value of every even digit multiplied by 5\n",
    "    \"\"\"\n",
    "    \n",
    "    if type(num) != str:\n",
    "        raise ValueError\n",
    "    sum_row = 0\n",
    "    \n",
    "    for (ix, char) in enumerate(num):\n",
    "#         print(sum_row)\n",
    "        try:\n",
    "            int_char = int(char)\n",
    "        except:\n",
    "            raise ValueError\n",
    "        ix = ix + 1\n",
    "#         print(ix,char)\n",
    "        if ix % 2 != 0:\n",
    "            sum_row += int_char*(ix)\n",
    "        else:\n",
    "            sum_row -= int_char*5\n",
    "            \n",
    "    return sum_row"
   ]
  },
  {
   "cell_type": "code",
   "execution_count": null,
   "metadata": {},
   "outputs": [],
   "source": []
  },
  {
   "cell_type": "code",
   "execution_count": null,
   "metadata": {},
   "outputs": [],
   "source": []
  },
  {
   "cell_type": "code",
   "execution_count": null,
   "metadata": {},
   "outputs": [],
   "source": []
  },
  {
   "cell_type": "code",
   "execution_count": null,
   "metadata": {},
   "outputs": [],
   "source": []
  },
  {
   "cell_type": "code",
   "execution_count": null,
   "metadata": {},
   "outputs": [],
   "source": []
  },
  {
   "cell_type": "code",
   "execution_count": null,
   "metadata": {},
   "outputs": [],
   "source": []
  },
  {
   "cell_type": "code",
   "execution_count": null,
   "metadata": {},
   "outputs": [],
   "source": []
  },
  {
   "cell_type": "code",
   "execution_count": null,
   "metadata": {},
   "outputs": [],
   "source": []
  },
  {
   "cell_type": "code",
   "execution_count": 20,
   "metadata": {
    "ExecuteTime": {
     "end_time": "2019-08-30T22:27:24.980591Z",
     "start_time": "2019-08-30T22:27:24.975787Z"
    }
   },
   "outputs": [],
   "source": [
    "### SOLUTION\n",
    "def calc_row_value(input_string):\n",
    "    \"\"\"args:\n",
    "           input_string (str): an input string\n",
    "       returns:\n",
    "           letter_prod (int): the fancy row value.\n",
    "    \"\"\"\n",
    "    \n",
    "    if type(input_string) != type(\"foo\"):\n",
    "        raise ValueError(\"input_string must be a string! 🙈\")\n",
    "    \n",
    "    value = 0\n",
    "    \n",
    "    input_nums = [int(c) for c in input_string if c.isdecimal()]\n",
    "    \n",
    "    for i,n in enumerate(input_nums):\n",
    "        index = i+1\n",
    "        \n",
    "        if index % 2 == 0:\n",
    "            value -= n*5\n",
    "        else:\n",
    "            value += n*index\n",
    "    \n",
    "    return value"
   ]
  },
  {
   "cell_type": "code",
   "execution_count": 18,
   "metadata": {
    "ExecuteTime": {
     "end_time": "2019-08-30T22:27:19.889437Z",
     "start_time": "2019-08-30T22:27:19.885315Z"
    },
    "scrolled": true
   },
   "outputs": [
    {
     "name": "stdout",
     "output_type": "stream",
     "text": [
      "0\n",
      "1 6\n",
      "6\n",
      "2 0\n",
      "6\n",
      "3 5\n",
      "21\n",
      "4 7\n",
      "-14\n"
     ]
    }
   ],
   "source": [
    "### Testcase sample\n",
    "print(magic_row_value('6057'))"
   ]
  },
  {
   "cell_type": "code",
   "execution_count": 22,
   "metadata": {
    "ExecuteTime": {
     "end_time": "2019-08-30T22:27:33.628045Z",
     "start_time": "2019-08-30T22:27:33.623377Z"
    },
    "scrolled": true
   },
   "outputs": [
    {
     "name": "stdout",
     "output_type": "stream",
     "text": [
      "0\n",
      "1 1\n",
      "1\n",
      "2 2\n",
      "-9\n",
      "3 3\n",
      "0\n",
      "4 4\n",
      "-20\n",
      "5 5\n",
      "5\n"
     ]
    }
   ],
   "source": [
    "### Testcase sample\n",
    "print(magic_row_value('12345'))"
   ]
  },
  {
   "cell_type": "code",
   "execution_count": 26,
   "metadata": {
    "ExecuteTime": {
     "end_time": "2019-08-30T22:28:08.296645Z",
     "start_time": "2019-08-30T22:28:08.293481Z"
    },
    "scrolled": true
   },
   "outputs": [
    {
     "name": "stdout",
     "output_type": "stream",
     "text": [
      "53\n",
      "53\n"
     ]
    }
   ],
   "source": [
    "### Testcase\n",
    "print(calc_row_value('6149219982'))\n",
    "print(magic_row_value('6149219982'))"
   ]
  },
  {
   "cell_type": "code",
   "execution_count": 7,
   "metadata": {
    "ExecuteTime": {
     "end_time": "2019-02-05T04:45:00.798370Z",
     "start_time": "2019-02-05T04:45:00.791388Z"
    }
   },
   "outputs": [
    {
     "data": {
      "text/plain": [
       "9"
      ]
     },
     "execution_count": 7,
     "metadata": {},
     "output_type": "execute_result"
    }
   ],
   "source": [
    "### Testcase\n",
    "print(calc_row_value('7154226105 '))"
   ]
  },
  {
   "cell_type": "code",
   "execution_count": 8,
   "metadata": {
    "ExecuteTime": {
     "end_time": "2019-02-05T04:45:00.808412Z",
     "start_time": "2019-02-05T04:45:00.801477Z"
    }
   },
   "outputs": [
    {
     "name": "stdout",
     "output_type": "stream",
     "text": [
      "True\n"
     ]
    }
   ],
   "source": [
    "### Testcase sample\n",
    "try:\n",
    "    calc_row_value(['12345'])\n",
    "except ValueError:\n",
    "    print(True)"
   ]
  },
  {
   "cell_type": "code",
   "execution_count": 9,
   "metadata": {
    "ExecuteTime": {
     "end_time": "2019-02-05T04:45:00.823357Z",
     "start_time": "2019-02-05T04:45:00.813521Z"
    }
   },
   "outputs": [
    {
     "name": "stdout",
     "output_type": "stream",
     "text": [
      "True\n"
     ]
    }
   ],
   "source": [
    "### Testcase\n",
    "import inspect\n",
    "print(\"enumerate\" in inspect.getsource(calc_row_value))"
   ]
  },
  {
   "cell_type": "code",
   "execution_count": null,
   "metadata": {},
   "outputs": [],
   "source": []
  }
 ],
 "metadata": {
  "kernelspec": {
   "display_name": "Python 3",
   "language": "python",
   "name": "python3"
  },
  "language_info": {
   "codemirror_mode": {
    "name": "ipython",
    "version": 3
   },
   "file_extension": ".py",
   "mimetype": "text/x-python",
   "name": "python",
   "nbconvert_exporter": "python",
   "pygments_lexer": "ipython3",
   "version": "3.7.3"
  },
  "toc": {
   "base_numbering": 1,
   "nav_menu": {},
   "number_sections": true,
   "sideBar": true,
   "skip_h1_title": false,
   "title_cell": "Table of Contents",
   "title_sidebar": "Contents",
   "toc_cell": true,
   "toc_position": {},
   "toc_section_display": true,
   "toc_window_display": true
  },
  "varInspector": {
   "cols": {
    "lenName": 16,
    "lenType": 16,
    "lenVar": 40
   },
   "kernels_config": {
    "python": {
     "delete_cmd_postfix": "",
     "delete_cmd_prefix": "del ",
     "library": "var_list.py",
     "varRefreshCmd": "print(var_dic_list())"
    },
    "r": {
     "delete_cmd_postfix": ") ",
     "delete_cmd_prefix": "rm(",
     "library": "var_list.r",
     "varRefreshCmd": "cat(var_dic_list()) "
    }
   },
   "types_to_exclude": [
    "module",
    "function",
    "builtin_function_or_method",
    "instance",
    "_Feature"
   ],
   "window_display": false
  }
 },
 "nbformat": 4,
 "nbformat_minor": 2
}
