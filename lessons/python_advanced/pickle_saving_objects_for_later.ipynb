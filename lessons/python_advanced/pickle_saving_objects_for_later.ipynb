{
 "cells": [
  {
   "cell_type": "markdown",
   "metadata": {
    "toc": true
   },
   "source": [
    "<h1>Table of Contents<span class=\"tocSkip\"></span></h1>\n",
    "<div class=\"toc\"><ul class=\"toc-item\"><li><span><a href=\"#Pickle:-Saving-Objects-for-Later\" data-toc-modified-id=\"Pickle:-Saving-Objects-for-Later-1\"><span class=\"toc-item-num\">1&nbsp;&nbsp;</span>Pickle: Saving Objects for Later</a></span><ul class=\"toc-item\"><li><ul class=\"toc-item\"><li><span><a href=\"#Okay,-but-I-don't-use-dictionaries...-I-use-pandas.\" data-toc-modified-id=\"Okay,-but-I-don't-use-dictionaries...-I-use-pandas.-1.0.1\"><span class=\"toc-item-num\">1.0.1&nbsp;&nbsp;</span>Okay, but I don't use dictionaries... I use pandas.</a></span><ul class=\"toc-item\"><li><span><a href=\"#Resources\" data-toc-modified-id=\"Resources-1.0.1.1\"><span class=\"toc-item-num\">1.0.1.1&nbsp;&nbsp;</span>Resources</a></span></li></ul></li></ul></li></ul></li></ul></div>"
   ]
  },
  {
   "cell_type": "code",
   "execution_count": 1,
   "metadata": {
    "ExecuteTime": {
     "end_time": "2019-08-30T22:44:25.859198Z",
     "start_time": "2019-08-30T22:44:25.855861Z"
    }
   },
   "outputs": [
    {
     "name": "stdout",
     "output_type": "stream",
     "text": [
      "Python Version: 3.7.3 (default, Mar 27 2019, 16:54:48) \n",
      "[Clang 4.0.1 (tags/RELEASE_401/final)] \n",
      "\n"
     ]
    }
   ],
   "source": [
    "import sys\n",
    "print(\"Python Version:\", sys.version, '\\n')"
   ]
  },
  {
   "cell_type": "markdown",
   "metadata": {},
   "source": [
    "# Pickle: Saving Objects for Later"
   ]
  },
  {
   "cell_type": "markdown",
   "metadata": {},
   "source": [
    "Often in data science, we'll create some model or some version of our data and want to use it later. We have many options - we can save the coefficients, or save the data to csv, or...\n",
    "\n",
    "Actually, we don't have that many options. \n",
    "\n",
    "One way to overcome that is to save the python object to a file as a serialized object. That means we convert the entire object to a bunch of bytes, save those bytes into a file, and then have the ability to unpack those bytes back into their original format later. \n",
    "\n",
    "This is done by a module called `pickle`. Let's see it in action."
   ]
  },
  {
   "cell_type": "code",
   "execution_count": 2,
   "metadata": {
    "ExecuteTime": {
     "end_time": "2019-08-30T22:44:26.880947Z",
     "start_time": "2019-08-30T22:44:26.876148Z"
    }
   },
   "outputs": [],
   "source": [
    "import pickle\n",
    "import random\n",
    "\n",
    "lots_of_noise = {\n",
    "    'CA': [random.randint(0,65) for _ in range(100)],\n",
    "    'IL': [random.randint(0,65) for _ in range(50)],\n",
    "    'NY': [random.randint(0,65) for _ in range(90)],\n",
    "    'WA': [random.randint(0,65) for _ in range(33)]\n",
    "}"
   ]
  },
  {
   "cell_type": "code",
   "execution_count": 3,
   "metadata": {
    "ExecuteTime": {
     "end_time": "2019-08-30T22:44:27.716522Z",
     "start_time": "2019-08-30T22:44:27.713552Z"
    }
   },
   "outputs": [
    {
     "name": "stdout",
     "output_type": "stream",
     "text": [
      "{'CA': [27, 44, 17, 65, 0, 43, 22, 43, 3, 65, 44, 21, 10, 58, 16, 61, 5, 57, 25, 36, 37, 10, 37, 50, 49, 1, 32, 13, 29, 60, 41, 5, 54, 43, 13, 4, 12, 36, 32, 4, 16, 58, 20, 29, 0, 45, 23, 20, 40, 31, 3, 39, 44, 18, 46, 61, 19, 21, 17, 58, 54, 26, 44, 60, 13, 18, 22, 36, 47, 28, 39, 20, 35, 59, 23, 58, 33, 39, 10, 19, 24, 13, 46, 3, 63, 26, 49, 58, 60, 46, 48, 26, 33, 40, 50, 35, 47, 19, 50, 9], 'IL': [63, 29, 26, 17, 65, 41, 43, 17, 22, 22, 31, 8, 0, 57, 39, 15, 37, 4, 32, 4, 47, 10, 35, 26, 41, 43, 45, 8, 0, 31, 8, 35, 15, 40, 9, 62, 21, 7, 34, 2, 27, 18, 16, 44, 4, 18, 33, 20, 63, 22], 'NY': [18, 42, 64, 40, 43, 41, 30, 42, 34, 36, 18, 13, 10, 14, 46, 21, 53, 18, 37, 55, 50, 61, 33, 4, 42, 46, 14, 30, 64, 41, 55, 33, 57, 42, 16, 37, 48, 24, 34, 27, 55, 15, 13, 41, 44, 11, 51, 41, 19, 18, 48, 59, 20, 62, 39, 2, 41, 1, 0, 31, 25, 11, 19, 17, 64, 64, 24, 15, 43, 2, 1, 59, 45, 44, 4, 57, 5, 53, 49, 56, 58, 26, 29, 21, 57, 24, 29, 1, 17, 2], 'WA': [59, 56, 30, 41, 47, 10, 32, 27, 22, 12, 3, 0, 24, 11, 9, 51, 9, 21, 11, 33, 22, 54, 4, 13, 37, 54, 51, 2, 37, 52, 22, 4, 23]}\n"
     ]
    }
   ],
   "source": [
    "print(lots_of_noise)"
   ]
  },
  {
   "cell_type": "code",
   "execution_count": 4,
   "metadata": {
    "ExecuteTime": {
     "end_time": "2019-08-30T22:44:32.650366Z",
     "start_time": "2019-08-30T22:44:32.646015Z"
    }
   },
   "outputs": [
    {
     "name": "stdout",
     "output_type": "stream",
     "text": [
      "Variable          Type                          Data/Info\n",
      "---------------------------------------------------------\n",
      "NamespaceMagics   MetaHasTraits                 <class 'IPython.core.magi<...>mespace.NamespaceMagics'>\n",
      "get_ipython       function                      <function get_ipython at 0x10c46e510>\n",
      "getsizeof         builtin_function_or_method    <built-in function getsizeof>\n",
      "json              module                        <module 'json' from '//an<...>hon3.7/json/__init__.py'>\n",
      "lots_of_noise     dict                          n=4\n",
      "np                module                        <module 'numpy' from '//a<...>kages/numpy/__init__.py'>\n",
      "pickle            module                        <module 'pickle' from '//<...>lib/python3.7/pickle.py'>\n",
      "random            module                        <module 'random' from '//<...>lib/python3.7/random.py'>\n",
      "sys               module                        <module 'sys' (built-in)>\n",
      "var_dic_list      function                      <function var_dic_list at 0x10f580598>\n"
     ]
    }
   ],
   "source": [
    "whos"
   ]
  },
  {
   "cell_type": "markdown",
   "metadata": {},
   "source": [
    "We can see in this `whos` command that the object `lots_of_noise` exists and is a `dict` with 4 keys. Nice. Now let's look at our file system and verify that there isn't a file called `noise.pickle`."
   ]
  },
  {
   "cell_type": "code",
   "execution_count": 5,
   "metadata": {
    "ExecuteTime": {
     "end_time": "2019-08-30T22:44:45.945427Z",
     "start_time": "2019-08-30T22:44:45.819365Z"
    }
   },
   "outputs": [
    {
     "name": "stdout",
     "output_type": "stream",
     "text": [
      "advanced_python_datatypes.ipynb       my_dataframe.pickle\r\n",
      "deep_and_shallow_copy.ipynb           noise.pickle\r\n",
      "\u001b[34mdeep_copy_demo\u001b[m\u001b[m                        pickle_saving_objects_for_later.ipynb\r\n",
      "instructor_guide_week1_day4.md        readme.md\r\n"
     ]
    }
   ],
   "source": [
    "!ls"
   ]
  },
  {
   "cell_type": "markdown",
   "metadata": {},
   "source": [
    "Okay, now we're ready to create a file and write the bytes to it. To do this with `pickle`, we use python's read-write streamer `open` and create a writable-binary (`wb`) file. We'll then use `pickle.dump` to put an object into that file as a string of bytes."
   ]
  },
  {
   "cell_type": "code",
   "execution_count": 6,
   "metadata": {
    "ExecuteTime": {
     "end_time": "2019-08-30T22:45:15.614210Z",
     "start_time": "2019-08-30T22:45:15.611007Z"
    }
   },
   "outputs": [],
   "source": [
    "with open('noise.pickle', 'wb') as to_write:\n",
    "    pickle.dump(lots_of_noise, to_write)"
   ]
  },
  {
   "cell_type": "code",
   "execution_count": 7,
   "metadata": {
    "ExecuteTime": {
     "end_time": "2019-08-30T22:45:16.003990Z",
     "start_time": "2019-08-30T22:45:15.882952Z"
    }
   },
   "outputs": [
    {
     "name": "stdout",
     "output_type": "stream",
     "text": [
      "advanced_python_datatypes.ipynb       my_dataframe.pickle\r\n",
      "deep_and_shallow_copy.ipynb           noise.pickle\r\n",
      "\u001b[34mdeep_copy_demo\u001b[m\u001b[m                        pickle_saving_objects_for_later.ipynb\r\n",
      "instructor_guide_week1_day4.md        readme.md\r\n"
     ]
    }
   ],
   "source": [
    "!ls"
   ]
  },
  {
   "cell_type": "markdown",
   "metadata": {},
   "source": [
    "Now let's delete `lots_of_noise` and prove to ourselves it doesn't exist in Python's memory anymore."
   ]
  },
  {
   "cell_type": "code",
   "execution_count": 8,
   "metadata": {
    "ExecuteTime": {
     "end_time": "2019-08-30T22:45:19.031313Z",
     "start_time": "2019-08-30T22:45:19.028702Z"
    }
   },
   "outputs": [],
   "source": [
    "del lots_of_noise"
   ]
  },
  {
   "cell_type": "code",
   "execution_count": 9,
   "metadata": {
    "ExecuteTime": {
     "end_time": "2019-08-30T22:45:19.483490Z",
     "start_time": "2019-08-30T22:45:19.477929Z"
    }
   },
   "outputs": [
    {
     "name": "stdout",
     "output_type": "stream",
     "text": [
      "Variable          Type                          Data/Info\n",
      "---------------------------------------------------------\n",
      "NamespaceMagics   MetaHasTraits                 <class 'IPython.core.magi<...>mespace.NamespaceMagics'>\n",
      "get_ipython       function                      <function get_ipython at 0x10c46e510>\n",
      "getsizeof         builtin_function_or_method    <built-in function getsizeof>\n",
      "json              module                        <module 'json' from '//an<...>hon3.7/json/__init__.py'>\n",
      "np                module                        <module 'numpy' from '//a<...>kages/numpy/__init__.py'>\n",
      "pickle            module                        <module 'pickle' from '//<...>lib/python3.7/pickle.py'>\n",
      "random            module                        <module 'random' from '//<...>lib/python3.7/random.py'>\n",
      "sys               module                        <module 'sys' (built-in)>\n",
      "to_write          BufferedWriter                <_io.BufferedWriter name='noise.pickle'>\n",
      "var_dic_list      function                      <function var_dic_list at 0x10f580598>\n"
     ]
    }
   ],
   "source": [
    "whos"
   ]
  },
  {
   "cell_type": "code",
   "execution_count": 11,
   "metadata": {
    "ExecuteTime": {
     "end_time": "2019-08-30T22:58:03.546281Z",
     "start_time": "2019-08-30T22:58:03.539669Z"
    }
   },
   "outputs": [
    {
     "ename": "NameError",
     "evalue": "name 'lots_of_noise' is not defined",
     "output_type": "error",
     "traceback": [
      "\u001b[0;31m---------------------------------------------------------------------------\u001b[0m",
      "\u001b[0;31mNameError\u001b[0m                                 Traceback (most recent call last)",
      "\u001b[0;32m<ipython-input-11-69f22b4d5ca8>\u001b[0m in \u001b[0;36m<module>\u001b[0;34m\u001b[0m\n\u001b[0;32m----> 1\u001b[0;31m \u001b[0mprint\u001b[0m\u001b[0;34m(\u001b[0m\u001b[0mlots_of_noise\u001b[0m\u001b[0;34m)\u001b[0m\u001b[0;34m\u001b[0m\u001b[0;34m\u001b[0m\u001b[0m\n\u001b[0m",
      "\u001b[0;31mNameError\u001b[0m: name 'lots_of_noise' is not defined"
     ]
    }
   ],
   "source": [
    "print(lots_of_noise)"
   ]
  },
  {
   "cell_type": "markdown",
   "metadata": {},
   "source": [
    "Lovely. It's dead forever. Or is it?\n",
    "\n",
    "Let's open that `noise.pickle` file with read-binary (`rb`) mode. Then we'll ask pickle to retrieve the file with `pickle.load` and store it back in a variable."
   ]
  },
  {
   "cell_type": "code",
   "execution_count": 12,
   "metadata": {
    "ExecuteTime": {
     "end_time": "2019-08-30T22:58:06.119875Z",
     "start_time": "2019-08-30T22:58:06.115710Z"
    }
   },
   "outputs": [],
   "source": [
    "with open('noise.pickle','rb') as read_file:\n",
    "    new_noise = pickle.load(read_file)"
   ]
  },
  {
   "cell_type": "code",
   "execution_count": 13,
   "metadata": {
    "ExecuteTime": {
     "end_time": "2019-08-30T22:58:06.608173Z",
     "start_time": "2019-08-30T22:58:06.604995Z"
    }
   },
   "outputs": [
    {
     "name": "stdout",
     "output_type": "stream",
     "text": [
      "{'CA': [27, 44, 17, 65, 0, 43, 22, 43, 3, 65, 44, 21, 10, 58, 16, 61, 5, 57, 25, 36, 37, 10, 37, 50, 49, 1, 32, 13, 29, 60, 41, 5, 54, 43, 13, 4, 12, 36, 32, 4, 16, 58, 20, 29, 0, 45, 23, 20, 40, 31, 3, 39, 44, 18, 46, 61, 19, 21, 17, 58, 54, 26, 44, 60, 13, 18, 22, 36, 47, 28, 39, 20, 35, 59, 23, 58, 33, 39, 10, 19, 24, 13, 46, 3, 63, 26, 49, 58, 60, 46, 48, 26, 33, 40, 50, 35, 47, 19, 50, 9], 'IL': [63, 29, 26, 17, 65, 41, 43, 17, 22, 22, 31, 8, 0, 57, 39, 15, 37, 4, 32, 4, 47, 10, 35, 26, 41, 43, 45, 8, 0, 31, 8, 35, 15, 40, 9, 62, 21, 7, 34, 2, 27, 18, 16, 44, 4, 18, 33, 20, 63, 22], 'NY': [18, 42, 64, 40, 43, 41, 30, 42, 34, 36, 18, 13, 10, 14, 46, 21, 53, 18, 37, 55, 50, 61, 33, 4, 42, 46, 14, 30, 64, 41, 55, 33, 57, 42, 16, 37, 48, 24, 34, 27, 55, 15, 13, 41, 44, 11, 51, 41, 19, 18, 48, 59, 20, 62, 39, 2, 41, 1, 0, 31, 25, 11, 19, 17, 64, 64, 24, 15, 43, 2, 1, 59, 45, 44, 4, 57, 5, 53, 49, 56, 58, 26, 29, 21, 57, 24, 29, 1, 17, 2], 'WA': [59, 56, 30, 41, 47, 10, 32, 27, 22, 12, 3, 0, 24, 11, 9, 51, 9, 21, 11, 33, 22, 54, 4, 13, 37, 54, 51, 2, 37, 52, 22, 4, 23]}\n"
     ]
    }
   ],
   "source": [
    "print(new_noise)"
   ]
  },
  {
   "cell_type": "code",
   "execution_count": 14,
   "metadata": {
    "ExecuteTime": {
     "end_time": "2019-08-30T22:58:13.905485Z",
     "start_time": "2019-08-30T22:58:13.899814Z"
    }
   },
   "outputs": [
    {
     "name": "stdout",
     "output_type": "stream",
     "text": [
      "Variable          Type                          Data/Info\n",
      "---------------------------------------------------------\n",
      "NamespaceMagics   MetaHasTraits                 <class 'IPython.core.magi<...>mespace.NamespaceMagics'>\n",
      "get_ipython       function                      <function get_ipython at 0x10c46e510>\n",
      "getsizeof         builtin_function_or_method    <built-in function getsizeof>\n",
      "json              module                        <module 'json' from '//an<...>hon3.7/json/__init__.py'>\n",
      "new_noise         dict                          n=4\n",
      "np                module                        <module 'numpy' from '//a<...>kages/numpy/__init__.py'>\n",
      "pickle            module                        <module 'pickle' from '//<...>lib/python3.7/pickle.py'>\n",
      "random            module                        <module 'random' from '//<...>lib/python3.7/random.py'>\n",
      "read_file         BufferedReader                <_io.BufferedReader name='noise.pickle'>\n",
      "sys               module                        <module 'sys' (built-in)>\n",
      "to_write          BufferedWriter                <_io.BufferedWriter name='noise.pickle'>\n",
      "var_dic_list      function                      <function var_dic_list at 0x10e47d950>\n"
     ]
    }
   ],
   "source": [
    "whos"
   ]
  },
  {
   "cell_type": "markdown",
   "metadata": {},
   "source": [
    "Random noise lives! We retrieved the entire structure from file. Nice."
   ]
  },
  {
   "cell_type": "markdown",
   "metadata": {},
   "source": [
    "### Okay, but I don't use dictionaries... I use pandas."
   ]
  },
  {
   "cell_type": "code",
   "execution_count": 19,
   "metadata": {
    "ExecuteTime": {
     "end_time": "2019-08-30T22:59:48.979580Z",
     "start_time": "2019-08-30T22:59:48.969302Z"
    }
   },
   "outputs": [
    {
     "data": {
      "text/html": [
       "<div>\n",
       "<style scoped>\n",
       "    .dataframe tbody tr th:only-of-type {\n",
       "        vertical-align: middle;\n",
       "    }\n",
       "\n",
       "    .dataframe tbody tr th {\n",
       "        vertical-align: top;\n",
       "    }\n",
       "\n",
       "    .dataframe thead th {\n",
       "        text-align: right;\n",
       "    }\n",
       "</style>\n",
       "<table border=\"1\" class=\"dataframe\">\n",
       "  <thead>\n",
       "    <tr style=\"text-align: right;\">\n",
       "      <th></th>\n",
       "      <th>Yay</th>\n",
       "      <th>specific</th>\n",
       "      <th>column</th>\n",
       "      <th>names</th>\n",
       "    </tr>\n",
       "  </thead>\n",
       "  <tbody>\n",
       "    <tr>\n",
       "      <th>0</th>\n",
       "      <td>-2.822423</td>\n",
       "      <td>6.239756</td>\n",
       "      <td>-5.885656</td>\n",
       "      <td>-7.568420</td>\n",
       "    </tr>\n",
       "    <tr>\n",
       "      <th>1</th>\n",
       "      <td>-3.227849</td>\n",
       "      <td>-3.121544</td>\n",
       "      <td>9.768733</td>\n",
       "      <td>-6.674674</td>\n",
       "    </tr>\n",
       "    <tr>\n",
       "      <th>2</th>\n",
       "      <td>-3.248032</td>\n",
       "      <td>9.230537</td>\n",
       "      <td>-0.784200</td>\n",
       "      <td>8.036795</td>\n",
       "    </tr>\n",
       "    <tr>\n",
       "      <th>3</th>\n",
       "      <td>1.035152</td>\n",
       "      <td>0.283390</td>\n",
       "      <td>0.154749</td>\n",
       "      <td>3.211578</td>\n",
       "    </tr>\n",
       "    <tr>\n",
       "      <th>4</th>\n",
       "      <td>-9.105830</td>\n",
       "      <td>-9.912830</td>\n",
       "      <td>-4.308601</td>\n",
       "      <td>-1.758346</td>\n",
       "    </tr>\n",
       "  </tbody>\n",
       "</table>\n",
       "</div>"
      ],
      "text/plain": [
       "        Yay  specific    column     names\n",
       "0 -2.822423  6.239756 -5.885656 -7.568420\n",
       "1 -3.227849 -3.121544  9.768733 -6.674674\n",
       "2 -3.248032  9.230537 -0.784200  8.036795\n",
       "3  1.035152  0.283390  0.154749  3.211578\n",
       "4 -9.105830 -9.912830 -4.308601 -1.758346"
      ]
     },
     "execution_count": 19,
     "metadata": {},
     "output_type": "execute_result"
    }
   ],
   "source": [
    "import pandas as pd\n",
    "import numpy as np\n",
    "\n",
    "df = pd.DataFrame(np.random.uniform(-10,10, size=(100,4)), columns=['Yay','specific','column','names'])\n",
    "df.head(5)"
   ]
  },
  {
   "cell_type": "code",
   "execution_count": 20,
   "metadata": {
    "ExecuteTime": {
     "end_time": "2019-08-30T22:59:49.837931Z",
     "start_time": "2019-08-30T22:59:49.834514Z"
    }
   },
   "outputs": [],
   "source": [
    "with open('my_dataframe.pickle', 'wb') as to_write:\n",
    "    pickle.dump(df, to_write)"
   ]
  },
  {
   "cell_type": "code",
   "execution_count": 21,
   "metadata": {
    "ExecuteTime": {
     "end_time": "2019-08-30T22:59:51.234125Z",
     "start_time": "2019-08-30T22:59:51.226087Z"
    }
   },
   "outputs": [
    {
     "ename": "NameError",
     "evalue": "name 'df' is not defined",
     "output_type": "error",
     "traceback": [
      "\u001b[0;31m---------------------------------------------------------------------------\u001b[0m",
      "\u001b[0;31mNameError\u001b[0m                                 Traceback (most recent call last)",
      "\u001b[0;32m<ipython-input-21-3975f6306adf>\u001b[0m in \u001b[0;36m<module>\u001b[0;34m\u001b[0m\n\u001b[1;32m      1\u001b[0m \u001b[0;32mdel\u001b[0m \u001b[0mdf\u001b[0m\u001b[0;34m\u001b[0m\u001b[0;34m\u001b[0m\u001b[0m\n\u001b[1;32m      2\u001b[0m \u001b[0;34m\u001b[0m\u001b[0m\n\u001b[0;32m----> 3\u001b[0;31m \u001b[0mdf\u001b[0m\u001b[0;34m.\u001b[0m\u001b[0mhead\u001b[0m\u001b[0;34m(\u001b[0m\u001b[0;36m5\u001b[0m\u001b[0;34m)\u001b[0m\u001b[0;34m\u001b[0m\u001b[0;34m\u001b[0m\u001b[0m\n\u001b[0m",
      "\u001b[0;31mNameError\u001b[0m: name 'df' is not defined"
     ]
    }
   ],
   "source": [
    "del df\n",
    "\n",
    "df.head(5)"
   ]
  },
  {
   "cell_type": "code",
   "execution_count": 22,
   "metadata": {
    "ExecuteTime": {
     "end_time": "2019-08-30T22:59:55.059502Z",
     "start_time": "2019-08-30T22:59:55.049818Z"
    }
   },
   "outputs": [
    {
     "data": {
      "text/html": [
       "<div>\n",
       "<style scoped>\n",
       "    .dataframe tbody tr th:only-of-type {\n",
       "        vertical-align: middle;\n",
       "    }\n",
       "\n",
       "    .dataframe tbody tr th {\n",
       "        vertical-align: top;\n",
       "    }\n",
       "\n",
       "    .dataframe thead th {\n",
       "        text-align: right;\n",
       "    }\n",
       "</style>\n",
       "<table border=\"1\" class=\"dataframe\">\n",
       "  <thead>\n",
       "    <tr style=\"text-align: right;\">\n",
       "      <th></th>\n",
       "      <th>Yay</th>\n",
       "      <th>specific</th>\n",
       "      <th>column</th>\n",
       "      <th>names</th>\n",
       "    </tr>\n",
       "  </thead>\n",
       "  <tbody>\n",
       "    <tr>\n",
       "      <th>0</th>\n",
       "      <td>-2.822423</td>\n",
       "      <td>6.239756</td>\n",
       "      <td>-5.885656</td>\n",
       "      <td>-7.568420</td>\n",
       "    </tr>\n",
       "    <tr>\n",
       "      <th>1</th>\n",
       "      <td>-3.227849</td>\n",
       "      <td>-3.121544</td>\n",
       "      <td>9.768733</td>\n",
       "      <td>-6.674674</td>\n",
       "    </tr>\n",
       "    <tr>\n",
       "      <th>2</th>\n",
       "      <td>-3.248032</td>\n",
       "      <td>9.230537</td>\n",
       "      <td>-0.784200</td>\n",
       "      <td>8.036795</td>\n",
       "    </tr>\n",
       "    <tr>\n",
       "      <th>3</th>\n",
       "      <td>1.035152</td>\n",
       "      <td>0.283390</td>\n",
       "      <td>0.154749</td>\n",
       "      <td>3.211578</td>\n",
       "    </tr>\n",
       "    <tr>\n",
       "      <th>4</th>\n",
       "      <td>-9.105830</td>\n",
       "      <td>-9.912830</td>\n",
       "      <td>-4.308601</td>\n",
       "      <td>-1.758346</td>\n",
       "    </tr>\n",
       "  </tbody>\n",
       "</table>\n",
       "</div>"
      ],
      "text/plain": [
       "        Yay  specific    column     names\n",
       "0 -2.822423  6.239756 -5.885656 -7.568420\n",
       "1 -3.227849 -3.121544  9.768733 -6.674674\n",
       "2 -3.248032  9.230537 -0.784200  8.036795\n",
       "3  1.035152  0.283390  0.154749  3.211578\n",
       "4 -9.105830 -9.912830 -4.308601 -1.758346"
      ]
     },
     "execution_count": 22,
     "metadata": {},
     "output_type": "execute_result"
    }
   ],
   "source": [
    "with open('my_dataframe.pickle','rb') as read_file:\n",
    "    new_df = pickle.load(read_file)\n",
    "    \n",
    "new_df.head(5)"
   ]
  },
  {
   "cell_type": "markdown",
   "metadata": {},
   "source": [
    "Pickle is a great tool. One recommended way of using it is to make it an end point of every step in your process. Example:\n",
    "\n",
    "* I got my data! Nice. Pickle it and stop your \"getting the data\" notebook.\n",
    "* Load your data from pickle. Clean it. Save your clean data to a new pickle.\n",
    "* Load your cleaned_data pickle. Do analysis and visualize it.\n",
    "\n",
    "This can provide natural \"pick-up-where-I-left-off-but-before-I-broke-my-data\" points. It's a great way to control the flow of your data.\n",
    "\n",
    "#### Resources\n",
    "\n",
    "https://docs.python.org/3.7/library/pickle.html"
   ]
  },
  {
   "cell_type": "code",
   "execution_count": null,
   "metadata": {},
   "outputs": [],
   "source": []
  }
 ],
 "metadata": {
  "kernelspec": {
   "display_name": "Python 3",
   "language": "python",
   "name": "python3"
  },
  "language_info": {
   "codemirror_mode": {
    "name": "ipython",
    "version": 3
   },
   "file_extension": ".py",
   "mimetype": "text/x-python",
   "name": "python",
   "nbconvert_exporter": "python",
   "pygments_lexer": "ipython3",
   "version": "3.7.3"
  },
  "toc": {
   "base_numbering": 1,
   "nav_menu": {},
   "number_sections": true,
   "sideBar": true,
   "skip_h1_title": false,
   "title_cell": "Table of Contents",
   "title_sidebar": "Contents",
   "toc_cell": true,
   "toc_position": {},
   "toc_section_display": true,
   "toc_window_display": true
  },
  "varInspector": {
   "cols": {
    "lenName": 16,
    "lenType": 16,
    "lenVar": 40
   },
   "kernels_config": {
    "python": {
     "delete_cmd_postfix": "",
     "delete_cmd_prefix": "del ",
     "library": "var_list.py",
     "varRefreshCmd": "print(var_dic_list())"
    },
    "r": {
     "delete_cmd_postfix": ") ",
     "delete_cmd_prefix": "rm(",
     "library": "var_list.r",
     "varRefreshCmd": "cat(var_dic_list()) "
    }
   },
   "types_to_exclude": [
    "module",
    "function",
    "builtin_function_or_method",
    "instance",
    "_Feature"
   ],
   "window_display": false
  }
 },
 "nbformat": 4,
 "nbformat_minor": 1
}
